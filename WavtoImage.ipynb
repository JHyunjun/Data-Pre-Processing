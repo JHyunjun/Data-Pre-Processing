{
  "nbformat": 4,
  "nbformat_minor": 0,
  "metadata": {
    "colab": {
      "private_outputs": true,
      "provenance": [],
      "authorship_tag": "ABX9TyMHdXmof3lOzPTLDXxxRhtz",
      "include_colab_link": true
    },
    "kernelspec": {
      "name": "python3",
      "display_name": "Python 3"
    },
    "language_info": {
      "name": "python"
    }
  },
  "cells": [
    {
      "cell_type": "markdown",
      "metadata": {
        "id": "view-in-github",
        "colab_type": "text"
      },
      "source": [
        "<a href=\"https://colab.research.google.com/github/JHyunjun/Data-Pre-Processing/blob/main/WavtoImage.ipynb\" target=\"_parent\"><img src=\"https://colab.research.google.com/assets/colab-badge.svg\" alt=\"Open In Colab\"/></a>"
      ]
    },
    {
      "cell_type": "code",
      "execution_count": null,
      "metadata": {
        "id": "FK2M6RC0NOK7"
      },
      "outputs": [],
      "source": [
        "!pip install yt-dlp\n",
        "!pip install pydub\n",
        "!pip install librosa\n",
        "\n",
        "import os\n",
        "import yt_dlp\n",
        "import librosa\n",
        "from pydub import AudioSegment\n",
        "\n",
        "# YouTube video URL\n",
        "youtube_url = 'https://www.youtube.com/watch?v=I2ZEMjFJtzM'\n",
        "\n",
        "# Download YouTube video as .wav audio file\n",
        "ydl_opts = {\n",
        "    'format': 'bestaudio/best',\n",
        "    'outtmpl': 'downloaded_audio.%(ext)s',\n",
        "    'postprocessors': [{\n",
        "        'key': 'FFmpegExtractAudio',\n",
        "        'preferredcodec': 'wav',\n",
        "        'preferredquality': '192',\n",
        "    }],\n",
        "}\n",
        "\n",
        "with yt_dlp.YoutubeDL(ydl_opts) as ydl:\n",
        "    ydl.download([youtube_url])\n",
        "\n",
        "# If there is an error in running the youtube_dlp, please try to restart the runtime.\n",
        "\n",
        "#%% Basic settings\n",
        "audio_length = 4 # seconds\n",
        "audio_length_ms = audio_length * 1000\n",
        "data_overlap = 50 # percent\n",
        "data_overlap_ps = data_overlap / 100\n",
        "sampling_rate = 32768\n",
        "\n",
        "os.makedirs(\"data_folder/wav_data\", exist_ok=True)\n",
        "os.makedirs(\"data_folder/mp3_data\", exist_ok=True)\n",
        "\n",
        "wav_path = \"data_folder/wav_data\"\n",
        "mp3_path = \"data_folder/mp3_data\"\n",
        "\n",
        "# Load the audio file\n",
        "base_wav = AudioSegment.from_wav(\"downloaded_audio.wav\")\n",
        "audio = base_wav.set_frame_rate(sampling_rate)\n",
        "\n",
        "# Segment the audio file and save each segment\n",
        "num_segments = int(len(audio) / (audio_length_ms * data_overlap_ps))\n",
        "\n",
        "for i in range(1, num_segments):\n",
        "    tmp_fname_wav = f\"audio_wav_{i:04}.wav\"\n",
        "    tmp_fname_mp3 = f\"audio_mp3_{i:04}.mp3\"\n",
        "    tmp_audio = audio[(i-1)*audio_length_ms*data_overlap_ps : (i+1)*audio_length_ms*data_overlap_ps]\n",
        "    tmp_audio.export(os.path.join(wav_path, tmp_fname_wav), format=\"wav\")\n",
        "    tmp_audio.export(os.path.join(mp3_path, tmp_fname_mp3), format=\"mp3\")\n",
        "\n",
        "# Load the segmented audio files and compute their STFT\n",
        "n_fft = 1024\n",
        "hop_length = 256\n",
        "\n",
        "wav_files = os.listdir(wav_path)\n",
        "mp3_files = os.listdir(mp3_path)\n",
        "\n",
        "for i, file in enumerate(wav_files):\n",
        "    y, sr = librosa.load(os.path.join(wav_path, file), sr=sampling_rate)\n",
        "    S1 = librosa.stft(y, n_fft=n_fft, hop_length=hop_length)\n",
        "    globals()[f\"wav_{i:04}\"] = librosa.amplitude_to_db(S1, ref=1.0, amin=1e-05, top_db=80.0)\n",
        "\n",
        "for i, file in enumerate(mp3_files):\n",
        "    y, sr = librosa.load(os.path.join(mp3_path, file), sr=sampling_rate)\n",
        "    S2 = librosa.stft(y, n_fft=n_fft, hop_length=hop_length)\n",
        "    globals()[f\"mp3_{i:04}\"] = librosa.amplitude_to_db(S2, ref=1.0, amin=1e-05, top_db=80.0)\n"
      ]
    },
    {
      "cell_type": "code",
      "source": [
        "import matplotlib.pyplot as plt\n",
        "import librosa.display\n",
        "\n",
        "# Choose the first .wav and .mp3 file\n",
        "wav_stft = globals()[\"wav_0000\"]\n",
        "mp3_stft = globals()[\"mp3_0000\"]\n",
        "\n",
        "print(wav_stft.shape)\n",
        "print(mp3_stft.shape)\n",
        "\n",
        "plt.figure(figsize=(14, 5))\n",
        "plt.subplot(1, 2, 2)\n",
        "librosa.display.specshow(wav_stft, sr=sampling_rate, hop_length=hop_length, x_axis='time', y_axis='log')\n",
        "plt.colorbar(format='%+2.0f dB')\n",
        "plt.title('Spectrogram (.wav)')\n",
        "plt.subplot(1, 2, 1)\n",
        "librosa.display.specshow(mp3_stft, sr=sampling_rate, hop_length=hop_length, x_axis='time', y_axis='log')\n",
        "plt.colorbar(format='%+2.0f dB')\n",
        "plt.title('Spectrogram (.mp3)')\n",
        "plt.tight_layout()\n",
        "plt.show()\n"
      ],
      "metadata": {
        "id": "CbcLNE_-XsCb"
      },
      "execution_count": null,
      "outputs": []
    }
  ]
}
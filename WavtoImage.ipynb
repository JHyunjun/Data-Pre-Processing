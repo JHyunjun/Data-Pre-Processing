{
  "nbformat": 4,
  "nbformat_minor": 0,
  "metadata": {
    "colab": {
      "private_outputs": true,
      "provenance": [],
      "authorship_tag": "ABX9TyN98GAkrhYnKFNBGq0vKs8Z",
      "include_colab_link": true
    },
    "kernelspec": {
      "name": "python3",
      "display_name": "Python 3"
    },
    "language_info": {
      "name": "python"
    }
  },
  "cells": [
    {
      "cell_type": "markdown",
      "metadata": {
        "id": "view-in-github",
        "colab_type": "text"
      },
      "source": [
        "<a href=\"https://colab.research.google.com/github/JHyunjun/Data-Pre-Processing/blob/main/WavtoImage.ipynb\" target=\"_parent\"><img src=\"https://colab.research.google.com/assets/colab-badge.svg\" alt=\"Open In Colab\"/></a>"
      ]
    },
    {
      "cell_type": "code",
      "execution_count": null,
      "metadata": {
        "id": "FK2M6RC0NOK7"
      },
      "outputs": [],
      "source": [
        "from pydub import AudioSegment\n",
        "import numpy as np\n",
        "import librosa\n",
        "import os\n",
        "\n",
        "#%% base wav 파일 위치 설정\n",
        "file_path = \"C:\\\\Users\\\\82107\\\\Desktop\\\\AI_comp\"\n",
        "file_name = \"SU2r.wav\"\n",
        "full_name = file_path + \"\\\\\" + file_name\n",
        "\n",
        "#%% 기본 세팅\n",
        "audio_length = 4 # Seconds\n",
        "audio_length_ms = audio_length * 1000\n",
        "data_overlap = 50 # Percent\n",
        "data_overlap_ps = data_overlap/100\n",
        "sampling_rate = 32768\n",
        "bitrate = 32 # 32 64 128 192\n",
        "bitrate = \"{}k\".format(bitrate)\n",
        "\n",
        "os.chdir(file_path)\n",
        "try:\n",
        "    os.mkdir(\"data_folder\")\n",
        "except:\n",
        "    pass\n",
        "\n",
        "#%% 폴더 생성 위치 설정\n",
        "folder_path = file_path + \"\\\\\" + \"data_folder\"\n",
        "os.chdir(folder_path)\n",
        "try:\n",
        "    os.mkdir(\"wav_data\")\n",
        "except:\n",
        "    pass\n",
        "try:\n",
        "    os.mkdir(\"mp3_data\")\n",
        "except:\n",
        "    pass\n",
        "wav_path = folder_path + \"\\\\\" + \"wav_data\"\n",
        "mp3_path = folder_path + \"\\\\\" + \"mp3_data\"\n",
        "#%%\n",
        "base_wav = AudioSegment.from_wav(full_name)\n",
        "audio = base_wav.set_frame_rate(sampling_rate)\n",
        "\n",
        "#%%\n",
        "num_segments = int(len(audio) / (audio_length_ms * data_overlap_ps))\n",
        "\n",
        "for i in range(1, num_segments):\n",
        "    #print((i-1)*audio_length_ms*data_overlap_ps, (i+1)*audio_length_ms*data_overlap_ps)\n",
        "    tmp_fname_wav = \"audio_wav_{0:0>4}.wav\".format(i)\n",
        "    tmp_fname_mp3 = \"audio_mp3_{0:0>4}.mp3\".format(i)\n",
        "    tmp_audio = audio[(i-1)*audio_length_ms*data_overlap_ps : (i+1)*audio_length_ms*data_overlap_ps]\n",
        "    os.chdir(wav_path)\n",
        "    tmp_audio.export(tmp_fname_wav, format = \"wav\")\n",
        "    os.chdir(mp3_path)\n",
        "    tmp_audio.export(tmp_fname_mp3, format = \"mp3\", bitrate = bitrate)\n",
        "\n",
        "#%%\n",
        "import librosa\n",
        "\n",
        "n_fft = 1024\n",
        "hop_length = 256\n",
        "wav_list = os.listdir(wav_path)\n",
        "mp3_list = os.listdir(mp3_path)\n",
        "\n",
        "#%%\n",
        "for i, file in enumerate(wav_list):\n",
        "    y, sr = librosa.load(wav_path + \"\\\\\" + file, sr = sampling_rate)\n",
        "    S1 = librosa.stft(y, n_fft = n_fft, hop_length = hop_length)\n",
        "    globals()[\"wav_{0:0>4}\".format(i)] = librosa.amplitude_to_db(S1, ref=1.0, amin=1e-05, top_db=80.0)\n",
        "for i, file in enumerate(mp3_list):\n",
        "    y, sr = librosa.load(mp3_path + \"\\\\\" + file, sr = sampling_rate)\n",
        "    S2 = librosa.stft(y, n_fft = n_fft, hop_length = hop_length)\n",
        "    globals()[\"mp3_{0:0>4}\".format(i)] = librosa.amplitude_to_db(S2, ref=1.0, amin=1e-05, top_db=80.0)"
      ]
    }
  ]
}